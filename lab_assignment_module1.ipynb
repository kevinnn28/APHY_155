{
 "cells": [
  {
   "cell_type": "markdown",
   "metadata": {
    "id": "G0BcK0H_G1Iu"
   },
   "source": [
    "# **AP155 Lab Assignment**\n",
    "## Module 1: Integrals and Derivatives\n",
    "\n",
    "_Instructions_: Answer each problem as completely as you can. Discuss **all** your answers as clearly and concisely as possible.\n",
    "\n",
    "_Scoring Criteria_: 50% - *correctness of code*; 50% - *discussion of the code and results*. Maximum score is **100 points**.\n",
    "\n",
    "\n"
   ]
  },
  {
   "cell_type": "markdown",
   "metadata": {
    "id": "PeHZ9kP8JaVR"
   },
   "source": [
    "### Student Information\n",
    "\n",
    "_Full Name (Last Name, First Name)_: Bendejo, Kevin D.\n",
    "_Student No._:2022-08528\n",
    "_Section_:THV-TX-2"
   ]
  },
  {
   "cell_type": "markdown",
   "metadata": {
    "id": "Hc183co-J4eI",
    "jp-MarkdownHeadingCollapsed": true
   },
   "source": [
    "### Submission Information\n",
    "\n",
    "_Date and Time Submitted (most recent upload)_:\n",
    "\n",
    "**HONOR PLEDGE** I affirm that I have upheld the highest principles of honesty and integrity in my academic work and that this lab assignment is my own work.\n",
    "\n",
    "**Sign here with your full name:** Kevin Bendejo"
   ]
  },
  {
   "cell_type": "markdown",
   "metadata": {
    "id": "X1UGsRpW-eQs"
   },
   "source": [
    "### Grading Information (c/o Lab Instructor)\n",
    "\n",
    "TOTAL SCORE: **XX**/100\n",
    "\n",
    "Score breakdown:\n",
    "* Problem 1 - XX/30\n",
    "* Problem 2 - XX/30\n",
    "* Problem 3 - XX/40\n",
    "\n",
    "_Date and Time Scored (MM/DD/YYYY HH:MM AM/PM):_"
   ]
  },
  {
   "cell_type": "markdown",
   "metadata": {
    "id": "LxWuqiCFMsEh"
   },
   "source": [
    "### PROBLEM 1\n",
    "**Integration using the trapezoidal rule and Simpson's rule**\n",
    "\n",
    "Calculate the integral of the function $ 2x^4 + 3x^2 + 4x + 5$ from $x=0$ to $x=5$.\n",
    "\n",
    "1. Do the numerical calculation using the trapezoidal rule with 10, 100, and 1,000 slices. Describe each step of the calculation clearly and concisely. *(10 pts.)*\n",
    "\n",
    "2. What are the percentage errors of your answers in (1)? *(10 pts.)*\n",
    "\n",
    "3. Repeat the calculation using Simpson's rule with 10, 100, and 1,000 slices. Describe each step of the calculation clearly and concisely. *(5 pts.)*\n",
    "\n",
    "4. What are the percentage errors of your answers in (3)? How do they compare with the results from (1) for the same number of slices? *(5 pts.)*"
   ]
  },
  {
   "cell_type": "code",
   "execution_count": 5,
   "metadata": {
    "id": "hMqWOsbIMoUh"
   },
   "outputs": [
    {
     "name": "stdout",
     "output_type": "stream",
     "text": [
      "Exact answer: 1450.0\n",
      "Trapezoidal rule w/ 10 slices: 1471.4375 Percent Error: 1.478448275862069\n",
      "Trapezoidal rule w/ 100 slices: 1450.2145812500003 Percent Error: 0.014798706896569988\n",
      "Trapezoidal rule w/ 1000 slices: 1450.0021458331234 Percent Error: 0.00014798849127240326\n"
     ]
    }
   ],
   "source": [
    "#Trapeziodal rule with 10, 100, and 1000 slices\n",
    "\n",
    "#defining the function\n",
    "def f(x):\n",
    "    return 2*x**4 + 3*x**2 + 4*x + 5\n",
    "#Setting the given values with variables\n",
    "N_1 = 10\n",
    "N_2 = 100\n",
    "N_3 = 1000 \n",
    "a = 0.0\n",
    "b = 5.0\n",
    "h_1 = (b-a)/N_1\n",
    "h_2 = (b-a)/N_2\n",
    "h_3 = (b-a)/N_3\n",
    "#Let s_1, s_2, s_3 be a factor of the integral of the f(x) for x=0 to x=5 using Trapezoidal Rule with 10, 100, and 1000 slices respectively\n",
    "\n",
    "##Initializing s_1, s_2, s_3\n",
    "s_1 = 0.5*f(a) + 0.5*f(b)\n",
    "s_2 = 0.5*f(a) + 0.5*f(b)\n",
    "s_3 = 0.5*f(a) + 0.5*f(b)\n",
    "\n",
    "##3rd term of s_1, s_2, s_3\n",
    "for i in range (1,N_1):\n",
    "    s_1 += f(a + i*h_1)\n",
    "Tr_10 = h_1*s_1\n",
    "\n",
    "for j in range (1,N_2):\n",
    "    s_2 += f(a + j*h_2)\n",
    "Tr_100 = h_2*s_2\n",
    "\n",
    "for k in range (1, N_3):\n",
    "    s_3 += f(a +k*h_3)\n",
    "Tr_1000 = h_3*s_3\n",
    "\n",
    "##Exact answer\n",
    "##defining the function for the exact integral\n",
    "def g(x):\n",
    "    return (2.0/5.0)*x**5 + x**3 + 2*x**2 + 5*x\n",
    "Ans = g(b) - g(a)\n",
    "\n",
    "##Calculation of Errors\n",
    "def E(x):\n",
    "    return abs(((x - Ans)/Ans)*100)\n",
    "error_1 = E(Tr_10)\n",
    "error_2 = E(Tr_100)\n",
    "error_3 = E(Tr_1000)\n",
    "\n",
    "print (\"Exact answer: \" + str(Ans))\n",
    "print (\"Trapezoidal rule w/ 10 slices: \" + str (Tr_10) + \" Percent Error: \" + str(error_1))\n",
    "print (\"Trapezoidal rule w/ 100 slices: \" + str(Tr_100) + \" Percent Error: \" + str(error_2))\n",
    "print (\"Trapezoidal rule w/ 1000 slices: \" + str(Tr_1000) + \" Percent Error: \" + str(error_3))\n"
   ]
  },
  {
   "cell_type": "code",
   "execution_count": 3,
   "metadata": {},
   "outputs": [
    {
     "name": "stdout",
     "output_type": "stream",
     "text": [
      "1450.0833333333333\n"
     ]
    }
   ],
   "source": [
    "#Simpson's rule with 10, 100, and 1000 slices\n",
    "a = 0\n",
    "b = 5\n",
    "N= 10\n",
    "h = (a+b)/N\n",
    "\n",
    "\n",
    "##defining the function##\n",
    "def f(x):\n",
    "    return 2*x**4 + 3*x**2 + 4*x + 5\n",
    "\n",
    "#Initialize s \n",
    "s = f(a) + f(b)\n",
    "\n",
    "for k in range (1, N, 2):\n",
    "    s += 4 * f(a+k*h)\n",
    "\n",
    "for k in range (2, N, 2):\n",
    "    s += 2*f(a + k*h)\n",
    "\n",
    "print (s*(1./3)*h)\n",
    "\n"
   ]
  },
  {
   "cell_type": "markdown",
   "metadata": {
    "id": "m2a6sg90R-NX"
   },
   "source": [
    "### PROBLEM 2\n",
    "\n",
    "**Integration using Gaussian quadrature**\n",
    "\n",
    "Calculate the integral from Problem 1 using the Gaussian quadrature method: $ 2x^4 + 3x^2 + 4x + 5$ from $x=0$ to $x=5$.\n",
    "\n",
    "1. Define the function $\\tt gaussxw$ from Appendix E of the Newman text (and run the cell). *(10 pts.)*\n",
    "\n",
    "2. Calculate the integral using the $\\tt gaussxw$ function in (1) and number of slices $N = 3$. Describe each step in the calculation clearly and concisely. *(20 pts.)*"
   ]
  },
  {
   "cell_type": "code",
   "execution_count": 13,
   "metadata": {
    "id": "YO_PDJ4VIVs5"
   },
   "outputs": [
    {
     "ename": "UnboundLocalError",
     "evalue": "cannot access local variable 'x' where it is not associated with a value",
     "output_type": "error",
     "traceback": [
      "\u001b[1;31m---------------------------------------------------------------------------\u001b[0m",
      "\u001b[1;31mUnboundLocalError\u001b[0m                         Traceback (most recent call last)",
      "Cell \u001b[1;32mIn[13], line 33\u001b[0m\n\u001b[0;32m     30\u001b[0m     x,w \u001b[38;5;241m=\u001b[39m gaussxw(N)\n\u001b[0;32m     31\u001b[0m     \u001b[38;5;28;01mreturn\u001b[39;00m \u001b[38;5;241m0.5\u001b[39m\u001b[38;5;241m*\u001b[39m(b\u001b[38;5;241m-\u001b[39ma)\u001b[38;5;241m*\u001b[39mx\u001b[38;5;241m+\u001b[39m\u001b[38;5;241m0.5\u001b[39m\u001b[38;5;241m*\u001b[39m(b\u001b[38;5;241m+\u001b[39ma),\u001b[38;5;241m0.5\u001b[39m\u001b[38;5;241m*\u001b[39m(b\u001b[38;5;241m-\u001b[39ma)\u001b[38;5;241m*\u001b[39mw\n\u001b[1;32m---> 33\u001b[0m gauss \u001b[38;5;241m=\u001b[39m gaussxwab(N,\u001b[38;5;241m0\u001b[39m,\u001b[38;5;241m5\u001b[39m)\n\u001b[0;32m     34\u001b[0m s \u001b[38;5;241m=\u001b[39m \u001b[38;5;241m0.0\u001b[39m\n\u001b[0;32m     35\u001b[0m \u001b[38;5;28;01mfor\u001b[39;00m k \u001b[38;5;129;01min\u001b[39;00m \u001b[38;5;28mrange\u001b[39m (N):\n",
      "Cell \u001b[1;32mIn[13], line 30\u001b[0m, in \u001b[0;36mgaussxwab\u001b[1;34m(N, a, b)\u001b[0m\n\u001b[0;32m     29\u001b[0m \u001b[38;5;28;01mdef\u001b[39;00m \u001b[38;5;21mgaussxwab\u001b[39m(N,a,b):\n\u001b[1;32m---> 30\u001b[0m     x,w \u001b[38;5;241m=\u001b[39m gaussxw(N)\n\u001b[0;32m     31\u001b[0m     \u001b[38;5;28;01mreturn\u001b[39;00m \u001b[38;5;241m0.5\u001b[39m\u001b[38;5;241m*\u001b[39m(b\u001b[38;5;241m-\u001b[39ma)\u001b[38;5;241m*\u001b[39mx\u001b[38;5;241m+\u001b[39m\u001b[38;5;241m0.5\u001b[39m\u001b[38;5;241m*\u001b[39m(b\u001b[38;5;241m+\u001b[39ma),\u001b[38;5;241m0.5\u001b[39m\u001b[38;5;241m*\u001b[39m(b\u001b[38;5;241m-\u001b[39ma)\u001b[38;5;241m*\u001b[39mw\n",
      "Cell \u001b[1;32mIn[13], line 13\u001b[0m, in \u001b[0;36mgaussxw\u001b[1;34m(N)\u001b[0m\n\u001b[0;32m     10\u001b[0m \u001b[38;5;28;01mdef\u001b[39;00m \u001b[38;5;21mgaussxw\u001b[39m(N):\n\u001b[0;32m     11\u001b[0m     \u001b[38;5;66;03m#Initialize approximation to roots of the Legendre Polynomial\u001b[39;00m\n\u001b[0;32m     12\u001b[0m     a \u001b[38;5;241m=\u001b[39m linspace(\u001b[38;5;241m3\u001b[39m, \u001b[38;5;241m4\u001b[39m\u001b[38;5;241m*\u001b[39mN\u001b[38;5;241m-\u001b[39m\u001b[38;5;241m1\u001b[39m, N)\u001b[38;5;241m/\u001b[39m(\u001b[38;5;241m4\u001b[39m\u001b[38;5;241m*\u001b[39mN\u001b[38;5;241m+\u001b[39m\u001b[38;5;241m2\u001b[39m) \u001b[38;5;66;03m#define linspace and arguments\u001b[39;00m\n\u001b[1;32m---> 13\u001b[0m     x \u001b[38;5;241m+\u001b[39m cos (pi\u001b[38;5;241m*\u001b[39ma\u001b[38;5;241m+\u001b[39m\u001b[38;5;241m1\u001b[39m\u001b[38;5;241m/\u001b[39m(\u001b[38;5;241m8\u001b[39m\u001b[38;5;241m*\u001b[39mN\u001b[38;5;241m*\u001b[39mN\u001b[38;5;241m*\u001b[39mtan(a)))\n\u001b[0;32m     14\u001b[0m     \u001b[38;5;66;03m# Find roots using newton's method\u001b[39;00m\n\u001b[0;32m     15\u001b[0m     epsilon \u001b[38;5;241m=\u001b[39m \u001b[38;5;241m1e-15\u001b[39m\n",
      "\u001b[1;31mUnboundLocalError\u001b[0m: cannot access local variable 'x' where it is not associated with a value"
     ]
    }
   ],
   "source": [
    "from numpy import ones, copy, cos, tan, pi, linspace\n",
    "\n",
    "def f(x):\n",
    "    return 2*x**4 + 3*x**2 + 4*x + 5\n",
    "N=3\n",
    "a=0\n",
    "b=5\n",
    "h=(b-a)/N\n",
    "\n",
    "def gaussxw(N):\n",
    "    #Initialize approximation to roots of the Legendre Polynomial\n",
    "    a = linspace(3, 4*N-1, N)/(4*N+2) #define linspace and arguments\n",
    "    x + cos (pi*a+1/(8*N*N*tan(a)))\n",
    "    # Find roots using newton's method\n",
    "    epsilon = 1e-15\n",
    "    delta=1.0\n",
    "    while delta>epsilon:\n",
    "        p0 = ones(N, float) #define what is ones\n",
    "        p1 = copy (x) # define what is copy\n",
    "        for k in range (1,N):\n",
    "            p0,p1 = p1, ((2*k+1)*x*p1-k*p0)/(k+1)\n",
    "        dp = (N+1)*(p0-x*p1)/(1-x*x)\n",
    "        dx = p1/dp\n",
    "        x -= dx \n",
    "        delta = max(abs(dx))\n",
    "    #Calculate the weights\n",
    "    w = 2*(N+1)*(N+1)/(N*N*(1-x*x)*dp*dp)\n",
    "    return x,w\n",
    "def gaussxwab(N,a,b):\n",
    "    x,w = gaussxw(N)\n",
    "    return 0.5*(b-a)*x+0.5*(b+a),0.5*(b-a)*w\n",
    "\n",
    "gauss = gaussxwab(N,0,5)\n",
    "s = 0.0\n",
    "for k in range (N):\n",
    "    s += w[k] + f(x[k])\n",
    "\n",
    "print(s)\n",
    "\n"
   ]
  },
  {
   "cell_type": "markdown",
   "metadata": {
    "id": "HceOjNu-VfN9"
   },
   "source": [
    "### PROBLEM 3\n",
    "\n",
    "**Physics Application: Anharmonic Oscillator**\n",
    "\n",
    "_Refer to Exercise 5.10 of the Newman text._ Consider an anharmonic oscillator with potential $V(x)$ symmetric about $x = 0$. Let us set our anharmonic oscillator going with amplitude $a$. That is, at $t = 0$ we release it from rest at position $x = a$ and it swings back towards the origin. Then at $t = 0$ we have $dx/dt = 0$ and the equation for its total energy becomes $E = V(a)$, i.e., the total energy of the particle is given in terms of the amplitude.\n",
    "\n",
    "When the particle reaches the origin for the first time, it has gone through one quarter of a period of the oscillator. The period $T$ is given by: $$ T = \\sqrt{8m} \\int_0^a \\frac{dx}{\\sqrt{V(a)-V(x)}}. $$\n",
    "\n",
    "1. Suppose the potential is $V(x) = x^4$ and the mass of the particle is $m = 1$. Write a Python function that calculates the period of the oscillator for given amplitude a using Gaussian quadrature with $N = 20$ points. Describe each step clearly and concisely. *(20 pts.)*\n",
    "\n",
    "2. Use your function to make a graph of the period for amplitudes ranging from $a = 0$ to $a = 2$. Describe the behavior you find and explain these results clearly and concisely. *(20 pts.)*"
   ]
  },
  {
   "cell_type": "code",
   "execution_count": null,
   "metadata": {
    "id": "p28JF-OQYock"
   },
   "outputs": [],
   "source": []
  }
 ],
 "metadata": {
  "colab": {
   "provenance": []
  },
  "kernelspec": {
   "display_name": "Python 3 (ipykernel)",
   "language": "python",
   "name": "python3"
  },
  "language_info": {
   "codemirror_mode": {
    "name": "ipython",
    "version": 3
   },
   "file_extension": ".py",
   "mimetype": "text/x-python",
   "name": "python",
   "nbconvert_exporter": "python",
   "pygments_lexer": "ipython3",
   "version": "3.12.4"
  }
 },
 "nbformat": 4,
 "nbformat_minor": 4
}
