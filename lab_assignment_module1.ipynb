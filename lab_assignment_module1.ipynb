{
 "cells": [
  {
   "cell_type": "markdown",
   "metadata": {
    "id": "G0BcK0H_G1Iu"
   },
   "source": [
    "# **AP155 Lab Assignment**\n",
    "## Module 1: Integrals and Derivatives\n",
    "\n",
    "_Instructions_: Answer each problem as completely as you can. Discuss **all** your answers as clearly and concisely as possible.\n",
    "\n",
    "_Scoring Criteria_: 50% - *correctness of code*; 50% - *discussion of the code and results*. Maximum score is **100 points**.\n",
    "\n",
    "\n"
   ]
  },
  {
   "cell_type": "markdown",
   "metadata": {
    "id": "PeHZ9kP8JaVR"
   },
   "source": [
    "### Student Information\n",
    "\n",
    "_Full Name (Last Name, First Name)_: Bendejo, Kevin D.\n",
    "_Student No._:2022-08528\n",
    "_Section_:THV-TX-2"
   ]
  },
  {
   "cell_type": "markdown",
   "metadata": {
    "id": "Hc183co-J4eI",
    "jp-MarkdownHeadingCollapsed": true
   },
   "source": [
    "### Submission Information\n",
    "\n",
    "_Date and Time Submitted (most recent upload)_:\n",
    "\n",
    "**HONOR PLEDGE** I affirm that I have upheld the highest principles of honesty and integrity in my academic work and that this lab assignment is my own work.\n",
    "\n",
    "**Sign here with your full name:** Kevin Bendejo"
   ]
  },
  {
   "cell_type": "markdown",
   "metadata": {
    "id": "X1UGsRpW-eQs"
   },
   "source": [
    "### Grading Information (c/o Lab Instructor)\n",
    "\n",
    "TOTAL SCORE: **XX**/100\n",
    "\n",
    "Score breakdown:\n",
    "* Problem 1 - XX/30\n",
    "* Problem 2 - XX/30\n",
    "* Problem 3 - XX/40\n",
    "\n",
    "_Date and Time Scored (MM/DD/YYYY HH:MM AM/PM):_"
   ]
  },
  {
   "cell_type": "markdown",
   "metadata": {
    "id": "LxWuqiCFMsEh"
   },
   "source": [
    "### PROBLEM 1\n",
    "**Integration using the trapezoidal rule and Simpson's rule**\n",
    "\n",
    "Calculate the integral of the function $ 2x^4 + 3x^2 + 4x + 5$ from $x=0$ to $x=5$.\n",
    "\n",
    "1. Do the numerical calculation using the trapezoidal rule with 10, 100, and 1,000 slices. Describe each step of the calculation clearly and concisely. *(10 pts.)*\n",
    "\n",
    "2. What are the percentage errors of your answers in (1)? *(10 pts.)*\n",
    "\n",
    "3. Repeat the calculation using Simpson's rule with 10, 100, and 1,000 slices. Describe each step of the calculation clearly and concisely. *(5 pts.)*\n",
    "\n",
    "4. What are the percentage errors of your answers in (3)? How do they compare with the results from (1) for the same number of slices? *(5 pts.)*"
   ]
  },
  {
   "cell_type": "code",
   "execution_count": 4,
   "metadata": {
    "id": "hMqWOsbIMoUh"
   },
   "outputs": [
    {
     "name": "stdout",
     "output_type": "stream",
     "text": [
      "Exact answer: 1450.0\n",
      "Trapezoidal rule w/ 10 slices: 1471.4375 Percent Error: 1.478448275862069\n",
      "Trapezoidal rule w/ 100 slices: 1450.2145812500003 Percent Error: 0.014798706896569988\n",
      "Trapezoidal rule w/ 1000 slices: 1450.0021458331234 Percent Error: 0.00014798849127240326\n"
     ]
    }
   ],
   "source": [
    "##Trapeziodal rule with 10, 100, and 1000 slices##\n",
    "\n",
    "##defining the function##\n",
    "def f(x):\n",
    "    return 2*x**4 + 3*x**2 + 4*x + 5\n",
    "##Setting the given values with variables##\n",
    "N_1 = 10\n",
    "N_2 = 100\n",
    "N_3 = 1000 \n",
    "a = 0.0\n",
    "b = 5.0\n",
    "h_1 = (b-a)/N_1\n",
    "h_2 = (b-a)/N_2\n",
    "h_3 = (b-a)/N_3\n",
    "##Let s_1, s_2, s_3 be a factor of the integral of the f(x) for x=0 to x=5 using Trapezoidal Rule with 10, 100, and 1000 slices respectively##\n",
    "\n",
    "##Initializing s_1, s_2, s_3##\n",
    "s_1 = 0.5*f(a) + 0.5*f(b)\n",
    "s_2 = 0.5*f(a) + 0.5*f(b)\n",
    "s_3 = 0.5*f(a) + 0.5*f(b)\n",
    "\n",
    "##3rd term of s_1, s_2, s_3##\n",
    "for i in range (1,N_1):\n",
    "    s_1 += f(a + i*h_1)\n",
    "Tr_10 = h_1*s_1\n",
    "\n",
    "for j in range (1,N_2):\n",
    "    s_2 += f(a + j*h_2)\n",
    "Tr_100 = h_2*s_2\n",
    "\n",
    "for k in range (1, N_3):\n",
    "    s_3 += f(a +k*h_3)\n",
    "Tr_1000 = h_3*s_3\n",
    "\n",
    "##Exact answer\n",
    "##defining the function for the exact integral\n",
    "def g(x):\n",
    "    return (2.0/5.0)*x**5 + x**3 + 2*x**2 + 5*x\n",
    "Ans = g(b) - g(a)\n",
    "\n",
    "##Calculation of Errors\n",
    "def E(x):\n",
    "    return abs(((x - Ans)/Ans)*100)\n",
    "error_1 = E(Tr_10)\n",
    "error_2 = E(Tr_100)\n",
    "error_3 = E(Tr_1000)\n",
    "\n",
    "print (\"Exact answer: \" + str(Ans))\n",
    "print (\"Trapezoidal rule w/ 10 slices: \" + str (Tr_10) + \" Percent Error: \" + str(error_1))\n",
    "print (\"Trapezoidal rule w/ 100 slices: \" + str(Tr_100) + \" Percent Error: \" + str(error_2))\n",
    "print (\"Trapezoidal rule w/ 1000 slices: \" + str(Tr_1000) + \" Percent Error: \" + str(error_3))\n"
   ]
  },
  {
   "cell_type": "markdown",
   "metadata": {
    "id": "m2a6sg90R-NX"
   },
   "source": [
    "### PROBLEM 2\n",
    "\n",
    "**Integration using Gaussian quadrature**\n",
    "\n",
    "Calculate the integral from Problem 1 using the Gaussian quadrature method: $ 2x^4 + 3x^2 + 4x + 5$ from $x=0$ to $x=5$.\n",
    "\n",
    "1. Define the function $\\tt gaussxw$ from Appendix E of the Newman text (and run the cell). *(10 pts.)*\n",
    "\n",
    "2. Calculate the integral using the $\\tt gaussxw$ function in (1) and number of slices $N = 3$. Describe each step in the calculation clearly and concisely. *(20 pts.)*"
   ]
  },
  {
   "cell_type": "code",
   "execution_count": null,
   "metadata": {
    "id": "YO_PDJ4VIVs5"
   },
   "outputs": [],
   "source": []
  },
  {
   "cell_type": "markdown",
   "metadata": {
    "id": "HceOjNu-VfN9"
   },
   "source": [
    "### PROBLEM 3\n",
    "\n",
    "**Physics Application: Anharmonic Oscillator**\n",
    "\n",
    "_Refer to Exercise 5.10 of the Newman text._ Consider an anharmonic oscillator with potential $V(x)$ symmetric about $x = 0$. Let us set our anharmonic oscillator going with amplitude $a$. That is, at $t = 0$ we release it from rest at position $x = a$ and it swings back towards the origin. Then at $t = 0$ we have $dx/dt = 0$ and the equation for its total energy becomes $E = V(a)$, i.e., the total energy of the particle is given in terms of the amplitude.\n",
    "\n",
    "When the particle reaches the origin for the first time, it has gone through one quarter of a period of the oscillator. The period $T$ is given by: $$ T = \\sqrt{8m} \\int_0^a \\frac{dx}{\\sqrt{V(a)-V(x)}}. $$\n",
    "\n",
    "1. Suppose the potential is $V(x) = x^4$ and the mass of the particle is $m = 1$. Write a Python function that calculates the period of the oscillator for given amplitude a using Gaussian quadrature with $N = 20$ points. Describe each step clearly and concisely. *(20 pts.)*\n",
    "\n",
    "2. Use your function to make a graph of the period for amplitudes ranging from $a = 0$ to $a = 2$. Describe the behavior you find and explain these results clearly and concisely. *(20 pts.)*"
   ]
  },
  {
   "cell_type": "code",
   "execution_count": null,
   "metadata": {
    "id": "p28JF-OQYock"
   },
   "outputs": [],
   "source": []
  }
 ],
 "metadata": {
  "colab": {
   "provenance": []
  },
  "kernelspec": {
   "display_name": "Python 3 (ipykernel)",
   "language": "python",
   "name": "python3"
  },
  "language_info": {
   "codemirror_mode": {
    "name": "ipython",
    "version": 3
   },
   "file_extension": ".py",
   "mimetype": "text/x-python",
   "name": "python",
   "nbconvert_exporter": "python",
   "pygments_lexer": "ipython3",
   "version": "3.12.4"
  }
 },
 "nbformat": 4,
 "nbformat_minor": 4
}
