{
 "cells": [
  {
   "cell_type": "markdown",
   "metadata": {
    "id": "G0BcK0H_G1Iu"
   },
   "source": [
    "# **AP155 Lab Assignment**\n",
    "## Module 1: Integrals and Derivatives\n",
    "\n",
    "_Instructions_: Answer each problem as completely as you can. Discuss **all** your answers as clearly and concisely as possible.\n",
    "\n",
    "_Scoring Criteria_: 50% - *correctness of code*; 50% - *discussion of the code and results*. Maximum score is **100 points**.\n",
    "\n",
    "\n"
   ]
  },
  {
   "cell_type": "markdown",
   "metadata": {
    "id": "PeHZ9kP8JaVR"
   },
   "source": [
    "### Student Information\n",
    "\n",
    "_Full Name_: Bendejo, Kevin D. \\\n",
    "_Student No._:2022-08528 \\\n",
    "_Section_:THV-TX-2"
   ]
  },
  {
   "cell_type": "markdown",
   "metadata": {
    "id": "Hc183co-J4eI"
   },
   "source": [
    "### Submission Information\n",
    "\n",
    "_Date and Time Submitted (most recent upload)_:\n",
    "\n",
    "**HONOR PLEDGE** I affirm that I have upheld the highest principles of honesty and integrity in my academic work and that this lab assignment is my own work.\n",
    "\n",
    "**Sign here with your full name:** Kevin Bendejo"
   ]
  },
  {
   "cell_type": "markdown",
   "metadata": {},
   "source": [
    "<font color='red'>GC Belinario: Provide the Date and Time of submission next time.</font>"
   ]
  },
  {
   "cell_type": "markdown",
   "metadata": {
    "id": "X1UGsRpW-eQs"
   },
   "source": [
    "### Grading Information (c/o Lab Instructor)\n",
    "\n",
    "TOTAL SCORE: <font color='red'>**80/100**</font>\n",
    "\n",
    "Score breakdown:\n",
    "* Problem 1 - <font color='red'>**30/30**</font>\n",
    "* Problem 2 - <font color='red'>**30/30**</font>\n",
    "* Problem 3 - <font color='red'>**20/40**</font>\n",
    "\n",
    "_<font color='red'>**Checked on  25 September 2025 3:01 PM**</font>_ \\\n",
    "_<font color='red'>**signed GC Belinario**</font>_"
   ]
  },
  {
   "cell_type": "markdown",
   "metadata": {
    "id": "LxWuqiCFMsEh"
   },
   "source": [
    "### PROBLEM 1\n",
    "**Integration using the trapezoidal rule and Simpson's rule**\n",
    "\n",
    "Calculate the integral of the function $ 2x^4 + 3x^2 + 4x + 5$ from $x=0$ to $x=5$.\n",
    "\n",
    "1. Do the numerical calculation using the trapezoidal rule with 10, 100, and 1,000 slices. Describe each step of the calculation clearly and concisely. *(10 pts.)*\n",
    "\n",
    "2. What are the percentage errors of your answers in (1)? *(10 pts.)*\n",
    "\n",
    "3. Repeat the calculation using Simpson's rule with 10, 100, and 1,000 slices. Describe each step of the calculation clearly and concisely. *(5 pts.)*\n",
    "\n",
    "4. What are the percentage errors of your answers in (3)? How do they compare with the results from (1) for the same number of slices? *(5 pts.)*"
   ]
  },
  {
   "cell_type": "code",
   "execution_count": 78,
   "metadata": {},
   "outputs": [],
   "source": [
    "#Integrating Using the Trapizoidal Method\n",
    "\n",
    "import numpy as np #Import numpy\n",
    "\n",
    "#Defining the Integrand f(x)\n",
    "def f(x):\n",
    "    return 2*x**4 + 3*x**2 + 4*x + 5\n",
    "\n",
    "# Defining a function that Integrates the f(x) using the Trapizoidal method with arguments:\n",
    "# N = number of slices\n",
    "# a = lower bound\n",
    "# b = upper bound\n",
    "def integ_trap(N, a, b):\n",
    "    h = (b-a)/N # h is the width of the equally sliced trapezoids\n",
    "    #let I be the integral of f(x)\n",
    "    I = 0.5*f(a) + 0.5*f(b) # Setting the initial value for I\n",
    "    # getting the summation of f(a + k*h) then adding it to I\n",
    "    for k in range (1, N): \n",
    "        I += f(a + k*h)  \n",
    "    I = h*I # Multiplying by a factor of h to get the final answer for I with N slices\n",
    "    return I # the function integ_trap(N, a, b) outputs I\n",
    "\n",
    "# Naming the given values in the problem\n",
    "\n",
    "# Since it was asked to calculate the integral of f(x) using 10, 100, and 1000 slices\n",
    "# It was set into an array for easier and more concise code\n",
    "N_arr = np.array([10, 100, 1000])  \n",
    "#Defining the integral (I) and error (E) as an array I_arr and E_arr\n",
    "I_arr = np.array([0.,0.,0.]) # the \"0.\"s allow the later value for I_arr to precise\n",
    "E_arr = np.zeros(len(N_arr))# another way to express np.array([0.,0.,0.])\n",
    "# boundary points a & b\n",
    "a = 0.0\n",
    "b = 5.0\n",
    "def g(x):\n",
    "    return (2.0/5.0)*x**5 + x**3 + 2*x**2 + 5*x\n",
    "exact_s = g(b) - g(a)\n"
   ]
  },
  {
   "cell_type": "code",
   "execution_count": 82,
   "metadata": {},
   "outputs": [
    {
     "name": "stdout",
     "output_type": "stream",
     "text": [
      "Integrating using Trapezoidal Method\n",
      "Slices: 10 Integral: 1471.4375 %Error: 1.478448275862069\n",
      "Slices: 100 Integral: 1450.2145812500003 %Error: 0.014798706896569988\n",
      "Slices: 1000 Integral: 1450.0021458331234 %Error: 0.00014798849127240326\n",
      "Integrating using Simpson's Rule\n",
      "Slices: 10 Integral: 1450.0833333333333 %Error: 0.005747126436776382\n",
      "Slices: 100 Integral: 1450.0000083333337 %Error: 5.747126657485657e-07\n",
      "Slices: 1000 Integral: 1450.0000000008342 %Error: 5.753338035870472e-11\n",
      "The results using the Simpson's Rule are much more accurate to the exact answer than using the Trapezoidal Method with the same number of slices\n"
     ]
    }
   ],
   "source": [
    "#Simpson's rule with 10, 100, and 1000 slices\n",
    "def integ_simp(N,a,b):\n",
    "    h = (b-a)/N\n",
    "    s = f(a) + f(b)\n",
    "    for k in range (1, N, 2):\n",
    "        s += 4 * f(a+k*h)\n",
    "    for k in range (2, N, 2):\n",
    "        s += 2*f(a + k*h)\n",
    "    return s*(1/3)*h\n",
    "\n",
    "Isimp_arr = np.zeros(len(N_arr))\n",
    "\n",
    "#showing of results\n",
    "print (\"Integrating using Trapezoidal Method\")\n",
    "for k in range (len(N_arr)):\n",
    "    I_arr[k] = integ_trap(N_arr[k], a, b) #solving the integrals using trapezoidal method\n",
    "    E_arr[k] = 100*abs(((I_arr[k])-exact_s)/exact_s) # calculatin the percent error\n",
    "    print (\"Slices: \" + str(N_arr[k]), \"Integral: \" + str(I_arr [k]), \"%Error: \"+str(E_arr[k])) # prints the output so we can see them\n",
    "\n",
    "print (\"Integrating using Simpson's Rule\")\n",
    "for j in range (len(N_arr)):\n",
    "    Isimp_arr[j] = integ_simp(N_arr[j], a, b)\n",
    "    E_arr[j] = 100*abs(((Isimp_arr[j])-exact_s)/exact_s) # calculatin the percent error\n",
    "    print(\"Slices: \" + str(N_arr[j]), \"Integral: \" + str(Isimp_arr[j]), \"%Error: \"+str(E_arr[j])) # prints the output so we can see them\n",
    "\n",
    "print (\"The results using the Simpson's Rule are much more accurate to the exact answer than using the Trapezoidal Method with the same number of slices\")"
   ]
  },
  {
   "cell_type": "markdown",
   "metadata": {
    "id": "m2a6sg90R-NX"
   },
   "source": [
    "### PROBLEM 2\n",
    "\n",
    "**Integration using Gaussian quadrature**\n",
    "\n",
    "Calculate the integral from Problem 1 using the Gaussian quadrature method: $ 2x^4 + 3x^2 + 4x + 5$ from $x=0$ to $x=5$.\n",
    "\n",
    "1. Define the function $\\tt gaussxw$ from Appendix E of the Newman text (and run the cell). *(10 pts.)*\n",
    "\n",
    "2. Calculate the integral using the $\\tt gaussxw$ function in (1) and number of slices $N = 3$. Describe each step in the calculation clearly and concisely. *(20 pts.)*"
   ]
  },
  {
   "cell_type": "code",
   "execution_count": 1,
   "metadata": {
    "id": "YO_PDJ4VIVs5"
   },
   "outputs": [],
   "source": [
    "from numpy import ones,copy,cos,tan,pi,linspace\n",
    "\n",
    "def gaussxw(N):\n",
    "\n",
    "    # Initial approximation to roots of the Legendre polynomial\n",
    "    a = linspace(3,4*N-1,N)/(4*N+2)\n",
    "    x = cos(pi*a+1/(8*N*N*tan(a)))\n",
    "\n",
    "    # Find roots using Newton's method\n",
    "    epsilon = 1e-15\n",
    "    delta = 1.0\n",
    "    while delta>epsilon:\n",
    "        p0 = ones(N,float)\n",
    "        p1 = copy(x)\n",
    "        for k in range(1,N):\n",
    "            p0,p1 = p1,((2*k+1)*x*p1-k*p0)/(k+1)\n",
    "        dp = (N+1)*(p0-x*p1)/(1-x*x)\n",
    "        dx = p1/dp\n",
    "        x -= dx\n",
    "        delta = max(abs(dx))\n",
    "\n",
    "    # Calculate the weights\n",
    "    w = 2*(N+1)*(N+1)/(N*N*(1-x*x)*dp*dp)\n",
    "    return x,w\n",
    "def gaussxwab(N,a,b):\n",
    "    x,w = gaussxw(N)\n",
    "    return 0.5*(b-a)*x+0.5*(b+a), 0.5*(b-a)*w\n",
    "\n"
   ]
  },
  {
   "cell_type": "code",
   "execution_count": 9,
   "metadata": {},
   "outputs": [
    {
     "name": "stdout",
     "output_type": "stream",
     "text": [
      "Integrating using Gaussian Quadrature\n",
      "Slices: 3 Integral: 1450.000000000002 %Error: 1.4112848820614383e-15\n"
     ]
    }
   ],
   "source": [
    "#Defining the function f(x) to be integrated\n",
    "def f(x):\n",
    "    return 2*x**4 + 3*x**2 + 4*x + 5\n",
    "\n",
    "#defining the given values to be used\n",
    "N=3\n",
    "a=0\n",
    "b=5\n",
    "h=(b-a)/N\n",
    "\n",
    "xp,wp = gaussxwab (N,a,b) #rescaling of sumple points with their corresponding weight\n",
    "\n",
    "#Let s be the definite integral of f(x)\n",
    "\n",
    "s=0.0 #initializing s\n",
    "#Summing of the points and their weight\n",
    "for k in range (N):\n",
    "    s += wp[k]*f(xp[k])\n",
    "error = abs((1450-s)/s)\n",
    "print (\"Integrating using Gaussian Quadrature\")\n",
    "print(\"Slices: \" + str(N), \"Integral: \" + str(s), \"%Error: \"+str(error))"
   ]
  },
  {
   "cell_type": "markdown",
   "metadata": {
    "id": "HceOjNu-VfN9"
   },
   "source": [
    "### PROBLEM 3\n",
    "\n",
    "**Physics Application: Anharmonic Oscillator**\n",
    "\n",
    "_Refer to Exercise 5.10 of the Newman text._ Consider an anharmonic oscillator with potential $V(x)$ symmetric about $x = 0$. Let us set our anharmonic oscillator going with amplitude $a$. That is, at $t = 0$ we release it from rest at position $x = a$ and it swings back towards the origin. Then at $t = 0$ we have $dx/dt = 0$ and the equation for its total energy becomes $E = V(a)$, i.e., the total energy of the particle is given in terms of the amplitude.\n",
    "\n",
    "When the particle reaches the origin for the first time, it has gone through one quarter of a period of the oscillator. The period $T$ is given by: $$ T = \\sqrt{8m} \\int_0^a \\frac{dx}{\\sqrt{V(a)-V(x)}}. $$\n",
    "\n",
    "1. Suppose the potential is $V(x) = x^4$ and the mass of the particle is $m = 1$. Write a Python function that calculates the period of the oscillator for given amplitude a using Gaussian quadrature with $N = 20$ points. Describe each step clearly and concisely. *(20 pts.)*\n",
    "\n",
    "2. Use your function to make a graph of the period for amplitudes ranging from $a = 0$ to $a = 2$. Describe the behavior you find and explain these results clearly and concisely. *(20 pts.)*"
   ]
  },
  {
   "cell_type": "code",
   "execution_count": 21,
   "metadata": {
    "id": "p28JF-OQYock"
   },
   "outputs": [
    {
     "ename": "NameError",
     "evalue": "name 'c' is not defined",
     "output_type": "error",
     "traceback": [
      "\u001b[1;31m---------------------------------------------------------------------------\u001b[0m",
      "\u001b[1;31mNameError\u001b[0m                                 Traceback (most recent call last)",
      "Cell \u001b[1;32mIn[21], line 28\u001b[0m\n\u001b[0;32m     26\u001b[0m N\u001b[38;5;241m=\u001b[39m\u001b[38;5;241m20\u001b[39m\n\u001b[0;32m     27\u001b[0m a\u001b[38;5;241m=\u001b[39m\u001b[38;5;241m0\u001b[39m\n\u001b[1;32m---> 28\u001b[0m b\u001b[38;5;241m=\u001b[39mc\n\u001b[0;32m     29\u001b[0m h\u001b[38;5;241m=\u001b[39m(b\u001b[38;5;241m-\u001b[39ma)\u001b[38;5;241m/\u001b[39mN\n\u001b[0;32m     30\u001b[0m s\u001b[38;5;241m=\u001b[39m\u001b[38;5;241m0.0\u001b[39m\n",
      "\u001b[1;31mNameError\u001b[0m: name 'c' is not defined"
     ]
    }
   ],
   "source": [
    "from numpy import ones, copy, cos, tan, pi, linspace\n",
    "\n",
    "def gaussxw(N):\n",
    "    #Initialize approximation to roots of the Legendre Polynomial\n",
    "    a = linspace(3, 4*N-1, N)/(4*N+2) #define linspace and arguments\n",
    "    x = cos (pi*a+1/(8*N*N*tan(a)))\n",
    "    # Find roots using newton's method\n",
    "    epsilon = 1e-15\n",
    "    delta=1.0\n",
    "    while delta>epsilon:\n",
    "        p0 = ones(N, float) #define what is ones\n",
    "        p1 = copy (x) # define what is copy\n",
    "        for k in range (1,N):\n",
    "            p0,p1 = p1, ((2*k+1)*x*p1-k*p0)/(k+1)\n",
    "        dp = (N+1)*(p0-x*p1)/(1-x*x)\n",
    "        dx = p1/dp\n",
    "        x -= dx \n",
    "        delta = max(abs(dx))\n",
    "    #Calculate the weights\n",
    "    w = 2*(N+1)*(N+1)/(N*N*(1-x*x)*dp*dp)\n",
    "    return x,w\n",
    "def g(x):\n",
    "    return x**4\n",
    "def f(x):\n",
    "    return ((8)**(1/2))/(g(b)-g(x))\n",
    "N=20\n",
    "a=0\n",
    "b=c\n",
    "h=(b-a)/N\n",
    "s=0.0\n",
    "x,w = gaussxw(N)\n",
    "xp = 0.5*(b-a)*x +0.5*(b+a)\n",
    "wp = 0.5*(b-a)*w\n",
    "for k in range (N):\n",
    "    s += wp[k]*f(xp[k])\n",
    "\n",
    "print (s)"
   ]
  },
  {
   "cell_type": "code",
   "execution_count": 21,
   "metadata": {
    "id": "p28JF-OQYock"
   },
   "outputs": [
    {
     "ename": "NameError",
     "evalue": "name 'c' is not defined",
     "output_type": "error",
     "traceback": [
      "\u001b[1;31m---------------------------------------------------------------------------\u001b[0m",
      "\u001b[1;31mNameError\u001b[0m                                 Traceback (most recent call last)",
      "Cell \u001b[1;32mIn[21], line 28\u001b[0m\n\u001b[0;32m     26\u001b[0m N\u001b[38;5;241m=\u001b[39m\u001b[38;5;241m20\u001b[39m\n\u001b[0;32m     27\u001b[0m a\u001b[38;5;241m=\u001b[39m\u001b[38;5;241m0\u001b[39m\n\u001b[1;32m---> 28\u001b[0m b\u001b[38;5;241m=\u001b[39mc\n\u001b[0;32m     29\u001b[0m h\u001b[38;5;241m=\u001b[39m(b\u001b[38;5;241m-\u001b[39ma)\u001b[38;5;241m/\u001b[39mN\n\u001b[0;32m     30\u001b[0m s\u001b[38;5;241m=\u001b[39m\u001b[38;5;241m0.0\u001b[39m\n",
      "\u001b[1;31mNameError\u001b[0m: name 'c' is not defined"
     ]
    }
   ],
   "source": [
    "from numpy import ones, copy, cos, tan, pi, linspace\n",
    "\n",
    "def gaussxw(N):\n",
    "    #Initialize approximation to roots of the Legendre Polynomial\n",
    "    a = linspace(3, 4*N-1, N)/(4*N+2) #define linspace and arguments\n",
    "    x = cos (pi*a+1/(8*N*N*tan(a)))\n",
    "    # Find roots using newton's method\n",
    "    epsilon = 1e-15\n",
    "    delta=1.0\n",
    "    while delta>epsilon:\n",
    "        p0 = ones(N, float) #define what is ones\n",
    "        p1 = copy (x) # define what is copy\n",
    "        for k in range (1,N):\n",
    "            p0,p1 = p1, ((2*k+1)*x*p1-k*p0)/(k+1)\n",
    "        dp = (N+1)*(p0-x*p1)/(1-x*x)\n",
    "        dx = p1/dp\n",
    "        x -= dx \n",
    "        delta = max(abs(dx))\n",
    "    #Calculate the weights\n",
    "    w = 2*(N+1)*(N+1)/(N*N*(1-x*x)*dp*dp)\n",
    "    return x,w\n",
    "def g(x):\n",
    "    return x**4\n",
    "def f(x):\n",
    "    return ((8)**(1/2))/(g(b)-g(x))\n",
    "N=20\n",
    "a=0\n",
    "b=c\n",
    "h=(b-a)/N\n",
    "s=0.0\n",
    "x,w = gaussxw(N)\n",
    "xp = 0.5*(b-a)*x +0.5*(b+a)\n",
    "wp = 0.5*(b-a)*w\n",
    "for k in range (N):\n",
    "    s += wp[k]*f(xp[k])\n",
    "\n",
    "print (s)"
   ]
  },
  {
   "cell_type": "code",
   "execution_count": 35,
   "metadata": {
    "id": "p28JF-OQYock"
   },
   "outputs": [
    {
     "data": {
      "image/png": "[encoded data removed]",
      "text/plain": [
       "<Figure size 640x480 with 1 Axes>"
      ]
     },
     "metadata": {},
     "output_type": "display_data"
    }
   ],
   "source": [
    "import numpy as np\n",
    "from numpy import ones,copy,cos,tan,pi,linspace\n",
    "import matplotlib.pyplot as plt\n",
    "def gaussxw(N):\n",
    "\n",
    "    # Initial approximation to roots of the Legendre polynomial\n",
    "    a = linspace(3,4*N-1,N)/(4*N+2)\n",
    "    x = cos(pi*a+1/(8*N*N*tan(a)))\n",
    "\n",
    "    # Find roots using Newton's method\n",
    "    epsilon = 1e-15\n",
    "    delta = 1.0\n",
    "    while delta>epsilon:\n",
    "        p0 = ones(N,float)\n",
    "        p1 = copy(x)\n",
    "        for k in range(1,N):\n",
    "            p0,p1 = p1,((2*k+1)*x*p1-k*p0)/(k+1)\n",
    "        dp = (N+1)*(p0-x*p1)/(1-x*x)\n",
    "        dx = p1/dp\n",
    "        x -= dx\n",
    "        delta = max(abs(dx))\n",
    "\n",
    "    # Calculate the weights\n",
    "    w = 2*(N+1)*(N+1)/(N*N*(1-x*x)*dp*dp)\n",
    "    return x,w\n",
    "def gaussxwab(N,a,b):\n",
    "    x,w = gaussxw(N)\n",
    "    return 0.5*(b-a)*x+0.5*(b+a), 0.5*(b-a)*w\n",
    "\n",
    "N=20\n",
    "a=0\n",
    "b=np.linspace (1,2,N)\n",
    "h=(b-a)/N\n",
    "\n",
    "def f(x):\n",
    "    return (1/(b**4-x**4))\n",
    "s=0.0\n",
    "xp,wp = gaussxwab(N,a,b)\n",
    "for k in range (N):\n",
    "    s += wp[k]*f(xp[k])\n",
    "s = ((8)**(1/2))*s\n",
    "plt.scatter (b, s)\n",
    "plt.show()"
   ]
  },
  {
   "cell_type": "markdown",
   "metadata": {},
   "source": [
    "<font color='red'>GC Belinario: -20 points for the errors caused by the undefined value of</font> `c`<font color='red'>, lack of Python function for the calculation of the integral, unlabeled graph, outlier in the graph, lack of sufficient explanation of the code, and lack of explanation of the result.</font> "
   ]
  }
 ],
 "metadata": {
  "colab": {
   "provenance": []
  },
  "kernelspec": {
   "display_name": "Python 3 (ipykernel)",
   "language": "python",
   "name": "python3"
  },
  "language_info": {
   "codemirror_mode": {
    "name": "ipython",
    "version": 3
   },
   "file_extension": ".py",
   "mimetype": "text/x-python",
   "name": "python",
   "nbconvert_exporter": "python",
   "pygments_lexer": "ipython3",
   "version": "3.12.2"
  }
 },
 "nbformat": 4,
 "nbformat_minor": 4
}
