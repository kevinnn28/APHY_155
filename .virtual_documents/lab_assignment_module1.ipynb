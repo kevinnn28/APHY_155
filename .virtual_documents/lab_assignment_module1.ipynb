

















#Integrating Using the Trapizoidal Method

import numpy as np #Import numpy

#Defining the Integrand f(x)
def f(x):
    return 2*x**4 + 3*x**2 + 4*x + 5

# Defining a function that Integrates the f(x) using the Trapizoidal method with arguments:
# N = number of slices
# a = lower bound
# b = upper bound
def integ_trap(N, a, b):
    h = (b-a)/N # h is the width of the equally sliced trapezoids
    #let I be the integral of f(x)
    I = 0.5*f(a) + 0.5*f(b) # Setting the initial value for I
    # getting the summation of f(a + k*h) then adding it to I
    for k in range (1, N): 
        I += f(a + k*h)  
    I = h*I # Multiplying by a factor of h to get the final answer for I with N slices
    return I # the function integ_trap(N, a, b) outputs I

# Naming the given values in the problem

# Since it was asked to calculate the integral of f(x) using 10, 100, and 1000 slices
# It was set into an array for easier and more concise code
N_arr = np.array([10, 100, 1000])  
#Defining the integral (I) and error (E) as an array I_arr and E_arr
I_arr = np.array([0.,0.,0.]) # the "0."s allow the later value for I_arr to precise
E_arr = np.zeros(len(N_arr))# another way to express np.array([0.,0.,0.])
# boundary points a & b
a = 0.0
b = 5.0
def g(x):
    return (2.0/5.0)*x**5 + x**3 + 2*x**2 + 5*x
exact_s = g(b) - g(a)



#Simpson's rule with 10, 100, and 1000 slices
def integ_simp(N,a,b):
    h = (b-a)/N
    s = f(a) + f(b)
    for k in range (1, N, 2):
        s += 4 * f(a+k*h)
    for k in range (2, N, 2):
        s += 2*f(a + k*h)
    return s*(1/3)*h

Isimp_arr = np.zeros(len(N_arr))

#showing of results
print ("Integrating using Trapezoidal Method")
for k in range (len(N_arr)):
    I_arr[k] = integ_trap(N_arr[k], a, b) #solving the integrals using trapezoidal method
    E_arr[k] = 100*abs(((I_arr[k])-exact_s)/exact_s) # calculatin the percent error
    print ("Slices: " + str(N_arr[k]), "Integral: " + str(I_arr [k]), "%Error: "+str(E_arr[k])) # prints the output so we can see them

print ("Integrating using Simpson's Rule")
for j in range (len(N_arr)):
    Isimp_arr[j] = integ_simp(N_arr[j], a, b)
    E_arr[j] = 100*abs(((Isimp_arr[j])-exact_s)/exact_s) # calculatin the percent error
    print("Slices: " + str(N_arr[j]), "Integral: " + str(Isimp_arr[j]), "%Error: "+str(E_arr[j])) # prints the output so we can see them

print ("The results using the Simpson's Rule are much more accurate to the exact answer than using the Trapezoidal Method with the same number of slices")





from numpy import ones,copy,cos,tan,pi,linspace

def gaussxw(N):

    # Initial approximation to roots of the Legendre polynomial
    a = linspace(3,4*N-1,N)/(4*N+2)
    x = cos(pi*a+1/(8*N*N*tan(a)))

    # Find roots using Newton's method
    epsilon = 1e-15
    delta = 1.0
    while delta>epsilon:
        p0 = ones(N,float)
        p1 = copy(x)
        for k in range(1,N):
            p0,p1 = p1,((2*k+1)*x*p1-k*p0)/(k+1)
        dp = (N+1)*(p0-x*p1)/(1-x*x)
        dx = p1/dp
        x -= dx
        delta = max(abs(dx))

    # Calculate the weights
    w = 2*(N+1)*(N+1)/(N*N*(1-x*x)*dp*dp)
    return x,w
def gaussxwab(N,a,b):
    x,w = gaussxw(N)
    return 0.5*(b-a)*x+0.5*(b+a), 0.5*(b-a)*w




#Defining the function f(x) to be integrated
def f(x):
    return 2*x**4 + 3*x**2 + 4*x + 5

#defining the given values to be used
N=3
a=0
b=5
h=(b-a)/N

xp,wp = gaussxwab (N,a,b) #rescaling of sumple points with their corresponding weight

#Let s be the definite integral of f(x)

s=0.0 #initializing s
#Summing of the points and their weight
for k in range (N):
    s += wp[k]*f(xp[k])
error = abs((1450-s)/s)
print ("Integrating using Gaussian Quadrature")
print("Slices: " + str(N), "Integral: " + str(s), "%Error: "+str(error))





from numpy import ones, copy, cos, tan, pi, linspace

def gaussxw(N):
    #Initialize approximation to roots of the Legendre Polynomial
    a = linspace(3, 4*N-1, N)/(4*N+2) #define linspace and arguments
    x = cos (pi*a+1/(8*N*N*tan(a)))
    # Find roots using newton's method
    epsilon = 1e-15
    delta=1.0
    while delta>epsilon:
        p0 = ones(N, float) #define what is ones
        p1 = copy (x) # define what is copy
        for k in range (1,N):
            p0,p1 = p1, ((2*k+1)*x*p1-k*p0)/(k+1)
        dp = (N+1)*(p0-x*p1)/(1-x*x)
        dx = p1/dp
        x -= dx 
        delta = max(abs(dx))
    #Calculate the weights
    w = 2*(N+1)*(N+1)/(N*N*(1-x*x)*dp*dp)
    return x,w
def g(x):
    return x**4
def f(x):
    return ((8)**(1/2))/(g(b)-g(x))
N=20
a=0
b=c
h=(b-a)/N
s=0.0
x,w = gaussxw(N)
xp = 0.5*(b-a)*x +0.5*(b+a)
wp = 0.5*(b-a)*w
for k in range (N):
    s += wp[k]*f(xp[k])

print (s)


from numpy import ones, copy, cos, tan, pi, linspace

def gaussxw(N):
    #Initialize approximation to roots of the Legendre Polynomial
    a = linspace(3, 4*N-1, N)/(4*N+2) #define linspace and arguments
    x = cos (pi*a+1/(8*N*N*tan(a)))
    # Find roots using newton's method
    epsilon = 1e-15
    delta=1.0
    while delta>epsilon:
        p0 = ones(N, float) #define what is ones
        p1 = copy (x) # define what is copy
        for k in range (1,N):
            p0,p1 = p1, ((2*k+1)*x*p1-k*p0)/(k+1)
        dp = (N+1)*(p0-x*p1)/(1-x*x)
        dx = p1/dp
        x -= dx 
        delta = max(abs(dx))
    #Calculate the weights
    w = 2*(N+1)*(N+1)/(N*N*(1-x*x)*dp*dp)
    return x,w
def g(x):
    return x**4
def f(x):
    return ((8)**(1/2))/(g(b)-g(x))
N=20
a=0
b=c
h=(b-a)/N
s=0.0
x,w = gaussxw(N)
xp = 0.5*(b-a)*x +0.5*(b+a)
wp = 0.5*(b-a)*w
for k in range (N):
    s += wp[k]*f(xp[k])

print (s)


import numpy as np
from numpy import ones,copy,cos,tan,pi,linspace
import matplotlib.pyplot as plt
def gaussxw(N):

    # Initial approximation to roots of the Legendre polynomial
    a = linspace(3,4*N-1,N)/(4*N+2)
    x = cos(pi*a+1/(8*N*N*tan(a)))

    # Find roots using Newton's method
    epsilon = 1e-15
    delta = 1.0
    while delta>epsilon:
        p0 = ones(N,float)
        p1 = copy(x)
        for k in range(1,N):
            p0,p1 = p1,((2*k+1)*x*p1-k*p0)/(k+1)
        dp = (N+1)*(p0-x*p1)/(1-x*x)
        dx = p1/dp
        x -= dx
        delta = max(abs(dx))

    # Calculate the weights
    w = 2*(N+1)*(N+1)/(N*N*(1-x*x)*dp*dp)
    return x,w
def gaussxwab(N,a,b):
    x,w = gaussxw(N)
    return 0.5*(b-a)*x+0.5*(b+a), 0.5*(b-a)*w

N=20
a=0
b=np.linspace (1,2,N)
h=(b-a)/N

def f(x):
    return (1/(b**4-x**4))
s=0.0
xp,wp = gaussxwab(N,a,b)
for k in range (N):
    s += wp[k]*f(xp[k])
s = ((8)**(1/2))*s
plt.scatter (b, s)
plt.show()



