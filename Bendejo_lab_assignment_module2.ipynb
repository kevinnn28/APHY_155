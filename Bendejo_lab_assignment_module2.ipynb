{
 "cells": [
  {
   "cell_type": "markdown",
   "metadata": {
    "id": "G0BcK0H_G1Iu"
   },
   "source": [
    "# **AP155 Lab Assignment**\n",
    "## Module 2: Solution of Linear and Nonlinear Equations\n",
    "\n",
    "_Instructions_: Answer each problem as completely as you can. Discuss **all** your answers as clearly and concisely as possible.\n",
    "\n",
    "_Scoring Criteria_: 50% - *correctness of code*; 50% - *discussion of the code and results*. Maximum score is **100 points**.\n",
    "\n"
   ]
  },
  {
   "cell_type": "markdown",
   "metadata": {
    "id": "PeHZ9kP8JaVR"
   },
   "source": [
    "### Student Information\n",
    "\n",
    "_Full Name (Last Name, First Name)_: Bendejo, Kevin D.\\\n",
    "_Student No._:2022-08528\\\n",
    "_Section_: TTH-TX-2"
   ]
  },
  {
   "cell_type": "markdown",
   "metadata": {
    "id": "Hc183co-J4eI"
   },
   "source": [
    "### Submission Information\n",
    "\n",
    "_Date and Time Submitted (most recent upload)_: August 7 12:50am\n",
    "\n",
    "**HONOR PLEDGE** I affirm that I have upheld the highest principles of honesty and integrity in my academic work and that this lab assignment is my own work.\n",
    "\n",
    "**Sign here with your full name: Kevin Bendejo**"
   ]
  },
  {
   "cell_type": "markdown",
   "metadata": {
    "id": "4LUwfsfMBmvd"
   },
   "source": [
    "### Grading Information (c/o Lab Instructor)\n",
    "\n",
    "TOTAL SCORE: <font color=red>**81/100**</font>\n",
    "\n",
    "Score breakdown:\n",
    "* Problem 1 - <font color=red>**21/30**</font>\n",
    "* Problem 2 - <font color=red>**24/30**</font>\n",
    "* Problem 3 - <font color=red>**36/40**</font>\n",
    "\n",
    "<font color='red'>**signed GC Belinario**</font>"
   ]
  },
  {
   "cell_type": "markdown",
   "metadata": {
    "id": "kBX9EyMLOnXj"
   },
   "source": [
    "### PROBLEM 1\n",
    "\n",
    "**Solve for eigenvalues and eigenvectors of a symmetric matrix**\n",
    "\n",
    "1. Use numpy's $\\tt linalg$ package to find the eigenvalues and eigenvectors of the ff. symmetrix matrix *(15 pts.)*:\n",
    "\n",
    "$ \\begin{equation}\n",
    "{\\bf A} =\n",
    "\\begin{pmatrix}\n",
    "8 & -2 & -20 \\\\\n",
    "-2 & -3 & -9 \\\\\n",
    "-20 & -9 & -3\n",
    "\\end{pmatrix} \\end{equation} $\n",
    "\n",
    "2. Check your answer numerically; that is, check that $\\bf AV = VD$, where the $N$ x $N$ matrix $\\bf V$ has the eigenvectors as its columns and $\\bf D$ is the diagonal matrix with the eigenvalues $\\lambda_i$ as its diagonal entries. *(15 pts.)*"
   ]
  },
  {
   "cell_type": "code",
   "execution_count": 9,
   "metadata": {
    "colab": {
     "base_uri": "https://localhost:8080/"
    },
    "id": "GABjwlXCR97i",
    "outputId": "4a8cdc9a-dbfa-4820-bba9-212ad7d98537"
   },
   "outputs": [
    {
     "name": "stdout",
     "output_type": "stream",
     "text": [
      "Eigenvalues:\n",
      "x1 : -21.996061954235405\n",
      "x2 : 23.835846735307335\n",
      "x3 : 0.16021521892806176\n",
      "\n",
      "Eigenvectors:\n",
      "V1 : [0.52496527 0.40892672 0.74645187]\n",
      "V2 : [ 0.76748685  0.15169114 -0.62285932]\n",
      "V3 : [ 0.36793396 -0.89987151  0.2342133 ]\n"
     ]
    }
   ],
   "source": [
    "from numpy import array\n",
    "from numpy.linalg import eig\n",
    "\n",
    "#Defining the given matrix A \n",
    "A = array([[8.0,-2.0,-20.0],[-2.0,-3.0,-9.0],[-20.0,-9.0,-3.0]],float)\n",
    "\n",
    "#Using the linalg function eig to calculate the eigenvalues\n",
    "x,V = eig(A)\n",
    "\n",
    "#Showing of Results\n",
    "print (\"Eigenvalues:\")\n",
    "for i in range (3):\n",
    "    print(\"x\"+ str(i+1) + \" : \" + str(x[i]))\n",
    "print()\n",
    "print (\"Eigenvectors:\")\n",
    "for i in range (3):\n",
    "    print (\"V\"+ str(i+1) + \" : \" + str(V[:,i]))"
   ]
  },
  {
   "cell_type": "code",
   "execution_count": 10,
   "metadata": {
    "colab": {
     "base_uri": "https://localhost:8080/"
    },
    "id": "QteWA0KlxfTJ",
    "outputId": "2f105b5c-5759-4a08-efbd-e53b2692138c"
   },
   "outputs": [
    {
     "name": "stdout",
     "output_type": "stream",
     "text": [
      "AV =\n",
      "[[-11.54716868  18.29369893   0.05894862]\n",
      " [ -8.99477756   3.61568676  -0.14417311]\n",
      " [-16.4190016  -14.8463793    0.03752454]]\n",
      "\n",
      "VD =\n",
      "[[-11.54716868  18.29369893   0.05894862]\n",
      " [ -8.99477756   3.61568676  -0.14417311]\n",
      " [-16.4190016  -14.8463793    0.03752454]]\n",
      "\n"
     ]
    },
    {
     "ename": "NameError",
     "evalue": "name 'F_A' is not defined",
     "output_type": "error",
     "traceback": [
      "\u001b[0;31m---------------------------------------------------------------------------\u001b[0m",
      "\u001b[0;31mNameError\u001b[0m                                 Traceback (most recent call last)",
      "Cell \u001b[0;32mIn[10], line 38\u001b[0m\n\u001b[1;32m     35\u001b[0m F_C \u001b[38;5;241m=\u001b[39m frobnorm(C)\n\u001b[1;32m     37\u001b[0m \u001b[38;5;66;03m#Present of Results\u001b[39;00m\n\u001b[0;32m---> 38\u001b[0m \u001b[38;5;28;01mif\u001b[39;00m F_A \u001b[38;5;241m==\u001b[39m F_B:\n\u001b[1;32m     39\u001b[0m     \u001b[38;5;28mprint\u001b[39m (\u001b[38;5;124m\"\u001b[39m\u001b[38;5;124mFrobenius Norm of AV: \u001b[39m\u001b[38;5;124m\"\u001b[39m \u001b[38;5;241m+\u001b[39m \u001b[38;5;28mstr\u001b[39m(F_B))\n\u001b[1;32m     40\u001b[0m     \u001b[38;5;28mprint\u001b[39m (\u001b[38;5;124m\"\u001b[39m\u001b[38;5;124mFrobenius Norm of VD: \u001b[39m\u001b[38;5;124m\"\u001b[39m \u001b[38;5;241m+\u001b[39m \u001b[38;5;28mstr\u001b[39m(F_C))\n",
      "\u001b[0;31mNameError\u001b[0m: name 'F_A' is not defined"
     ]
    }
   ],
   "source": [
    "import numpy as np\n",
    "from numpy import array\n",
    "from numpy.linalg import eig\n",
    "\n",
    "#defining the matrix A\n",
    "A = array([[8,-2,-20],[-2,-3,-9],[-20,-9,-3]],float)\n",
    "\n",
    "#solving for the eigenvalues and eigenvectors\n",
    "x,V= eig(A)\n",
    "\n",
    "#defining the matrix D\n",
    "D = array([[x[0],0,0],[0,x[1],0],[0,0,x[2]]],float)\n",
    "\n",
    "#performing a matrix multiplication\n",
    "B=np.matmul(A,V)\n",
    "C=np.matmul(V,D)\n",
    "\n",
    "print(\"AV =\")\n",
    "print(B)\n",
    "print()\n",
    "print(\"VD =\")\n",
    "print(C)\n",
    "print()\n",
    "#Defing a function that calculate the Frobenious norm of a matrix\n",
    "def frobnorm(A):\n",
    "    x = 0\n",
    "    for m in range (3):\n",
    "        for i in range (3):\n",
    "            x += (A[m,i])**2\n",
    "        x += x\n",
    "    return x**(0.5)\n",
    "\n",
    "#Calculating the Frobenius Norm\n",
    "F_B = frobnorm(B)\n",
    "F_C = frobnorm(C)\n",
    "\n",
    "#Present of Results\n",
    "if F_A == F_B:\n",
    "    print (\"Frobenius Norm of AV: \" + str(F_B))\n",
    "    print (\"Frobenius Norm of VD: \" + str(F_C))\n",
    "    print (\"Since the Frobenius norm of AV and VD are equal, then AV = VD\")\n",
    "else: \n",
    "    print(False)\n"
   ]
  },
  {
   "cell_type": "markdown",
   "metadata": {},
   "source": [
    "<font color=red>The code contains an undefined variable `F_A`.</font>\n"
   ]
  },
  {
   "cell_type": "markdown",
   "metadata": {},
   "source": [
    "<font color=red>Must explain why Frobenius norm was used to determine the numerical correctness of the obtained eigenvalues and eigenvectors. Moreover, there is a lack of discussion of the results.</font>\n"
   ]
  },
  {
   "cell_type": "markdown",
   "metadata": {},
   "source": [
    "<font color=red>Correctness of Code: 12/15</font> \\\n",
    "<font color=red>Discussion of Code and Results: 9/15</font>"
   ]
  },
  {
   "cell_type": "markdown",
   "metadata": {
    "id": "HceOjNu-VfN9"
   },
   "source": [
    "### PROBLEM 2\n",
    "\n",
    "**Solve a nonlinear equation using the relaxation method**\n",
    "\n",
    "Consider the equation $x=1- e^{-cx}$, where $c$ is a known parameter and $x$ is unknown. This equation arises in a variety of situations, including the physics of contact processes, mathematical models of epidemics, and the theory of random graphs.\n",
    "\n",
    "1. Write a program to solve this equation for $x$ using the relaxation method for the case $c = 2$. Calculate your solution to an accuracy of at least $10^{-6}$. *(10 pts.)*\n",
    "\n",
    "2. Modify your program to calculate the solution for values of $c$ from 0 to 3 in steps of 0.01. *(10 pts.)*\n",
    "\n",
    "3. Make a plot of $x$ as a function of $c$. Describe the different regimes that you see. *(10 pts.)*"
   ]
  },
  {
   "cell_type": "code",
   "execution_count": 11,
   "metadata": {},
   "outputs": [
    {
     "ename": "NameError",
     "evalue": "name 'exp' is not defined",
     "output_type": "error",
     "traceback": [
      "\u001b[0;31m---------------------------------------------------------------------------\u001b[0m",
      "\u001b[0;31mNameError\u001b[0m                                 Traceback (most recent call last)",
      "Cell \u001b[0;32mIn[11], line 8\u001b[0m\n\u001b[1;32m      6\u001b[0m \u001b[38;5;66;03m#pluging in the guess\u001b[39;00m\n\u001b[1;32m      7\u001b[0m x \u001b[38;5;241m=\u001b[39m x_guess\n\u001b[0;32m----> 8\u001b[0m x_new \u001b[38;5;241m=\u001b[39m  \u001b[38;5;241m1\u001b[39m \u001b[38;5;241m-\u001b[39m exp(\u001b[38;5;241m-\u001b[39m\u001b[38;5;241m2\u001b[39m\u001b[38;5;241m*\u001b[39mx)\n\u001b[1;32m     10\u001b[0m \u001b[38;5;66;03m#plugging in the new guess until the answer converges \u001b[39;00m\n\u001b[1;32m     11\u001b[0m \u001b[38;5;28;01mwhile\u001b[39;00m \u001b[38;5;28mround\u001b[39m(x_new,\u001b[38;5;241m7\u001b[39m) \u001b[38;5;241m!=\u001b[39m \u001b[38;5;28mround\u001b[39m(x,\u001b[38;5;241m7\u001b[39m):\n",
      "\u001b[0;31mNameError\u001b[0m: name 'exp' is not defined"
     ]
    }
   ],
   "source": [
    "import numpy as np\n",
    "\n",
    "#letting the initial guesses satisfy the convergence condition: abs(f'(x)<1)\n",
    "x_guess=abs(((np.log(2))/2)-0.9) \n",
    "\n",
    "#pluging in the guess\n",
    "x = x_guess\n",
    "x_new =  1 - exp(-2*x)\n",
    "\n",
    "#plugging in the new guess until the answer converges \n",
    "while round(x_new,7) != round(x,7):\n",
    "    x=x_new\n",
    "    x_new = 1 - exp(-2*x)\n",
    "\n",
    "print(\"The approximate solution for x = 1 - exp(-2x) is \" + str(round(x_new,7)))"
   ]
  },
  {
   "cell_type": "code",
   "execution_count": 12,
   "metadata": {},
   "outputs": [
    {
     "ename": "NameError",
     "evalue": "name 'exp' is not defined",
     "output_type": "error",
     "traceback": [
      "\u001b[0;31m---------------------------------------------------------------------------\u001b[0m",
      "\u001b[0;31mNameError\u001b[0m                                 Traceback (most recent call last)",
      "Cell \u001b[0;32mIn[12], line 17\u001b[0m\n\u001b[1;32m     15\u001b[0m \u001b[38;5;28;01mfor\u001b[39;00m k \u001b[38;5;129;01min\u001b[39;00m \u001b[38;5;28mrange\u001b[39m (\u001b[38;5;241m300\u001b[39m):\n\u001b[1;32m     16\u001b[0m     x \u001b[38;5;241m=\u001b[39m x_guess[k]\n\u001b[0;32m---> 17\u001b[0m     x_new \u001b[38;5;241m=\u001b[39m  \u001b[38;5;241m1\u001b[39m \u001b[38;5;241m-\u001b[39m exp(\u001b[38;5;241m-\u001b[39mc[k]\u001b[38;5;241m*\u001b[39mx)\n\u001b[1;32m     18\u001b[0m     \u001b[38;5;28;01mwhile\u001b[39;00m \u001b[38;5;28mround\u001b[39m(x_new,\u001b[38;5;241m7\u001b[39m) \u001b[38;5;241m!=\u001b[39m \u001b[38;5;28mround\u001b[39m(x,\u001b[38;5;241m7\u001b[39m):\n\u001b[1;32m     19\u001b[0m         x\u001b[38;5;241m=\u001b[39mx_new\n",
      "\u001b[0;31mNameError\u001b[0m: name 'exp' is not defined"
     ]
    }
   ],
   "source": [
    "import numpy as np\n",
    "\n",
    "\n",
    "c = np.linspace(0.01,3,300) #making a list of values for c with a 0.01 step\n",
    "\n",
    "# guess for x to converge\n",
    "x_guess =[] #defining an empty list where the initial guesses for different c's will be placed\n",
    "for k in range (300):\n",
    "    x=abs(((np.log(c[k]))/c[k])-0.9) #letting the initial guesses satisfy the convergence condition: abs(f'(x)<1)\n",
    "    x_guess.append(x)\n",
    "\n",
    "\n",
    "x_pts=[]#defining an empty list where the approximate solution for different c's will be placed\n",
    "#pluging in the guesses\n",
    "for k in range (300):\n",
    "    x = x_guess[k]\n",
    "    x_new =  1 - exp(-c[k]*x)\n",
    "    while round(x_new,7) != round(x,7):\n",
    "        x=x_new\n",
    "        x_new = 1 - exp(-c[k]*x)\n",
    "    x_pts.append(x_new)\n"
   ]
  },
  {
   "cell_type": "code",
   "execution_count": null,
   "metadata": {},
   "outputs": [
    {
     "data": {
      "image/png": "[encoded data removed]",
      "text/plain": [
       "<Figure size 640x480 with 1 Axes>"
      ]
     },
     "metadata": {},
     "output_type": "display_data"
    },
    {
     "name": "stdout",
     "output_type": "stream",
     "text": [
      "f(x) is linear for 0 < c <= 1, while express a logarithmic-like behavior when c > 1\n"
     ]
    }
   ],
   "source": [
    "#Graphing the resuts: f(x) vs c\n",
    "fig, ax = plt.subplots()\n",
    "ax.scatter(c,x_pts)\n",
    "ax.set_xlabel(\"Constant Parameter c\")\n",
    "ax.set_ylabel (\"f(x) = 1 - exp(-cx)\")\n",
    "\n",
    "plt.show()\n",
    "\n",
    "print (\"f(x) is linear for 0 < c <= 1, while express a logarithmic-like behavior when c > 1\")"
   ]
  },
  {
   "cell_type": "markdown",
   "metadata": {},
   "source": [
    "<font color=red>The cells fail to run as intended because the `exp` was not imported.</font> "
   ]
  },
  {
   "cell_type": "markdown",
   "metadata": {},
   "source": [
    "<font color=red>The vertical axis of the plot has an incorrect label.</font> "
   ]
  },
  {
   "cell_type": "markdown",
   "metadata": {},
   "source": [
    "<font color=red>Correctness of Code: 12/15</font> \\\n",
    "<font color=red>Discussion of Code and Results: 12/15</font>"
   ]
  },
  {
   "cell_type": "markdown",
   "metadata": {
    "id": "BY5x-mZsYoqG"
   },
   "source": [
    "### PROBLEM 3\n",
    "\n",
    "**Physics Application: Calculating the Lagrange point**\n",
    "\n",
    "_Refer to Exercise 6.16 of the Newman text._ The $L_1$ Lagrange point is the point between the Earth and the Moon at which a satellite will orbit the Earth in perfect synchrony with the Moon, staying always in between the two.\n",
    "\n",
    "Assuming circular orbits, and assuming that the Earth is much more massive than either the Moon or the satellite, the distance $r$ from the center of the Earth to the $L_1$ point satisfies\n",
    "$$ \\begin{equation}\n",
    "\\frac{GM}{r^2} - \\frac{Gm}{(R-r)^2} = \\omega^2 r,\n",
    "\\end{equation} $$\n",
    "where $R$ is the distance from the Earth to the Moon, $M$ and $m$ are the Earth and Moon masses, $G$ is Newton's gravitational constant, and $\\omega$ is the angular velocity of both the Moon and the satellite."
   ]
  },
  {
   "cell_type": "markdown",
   "metadata": {
    "id": "LlDDXIZ46CKU"
   },
   "source": [
    "Use Newton's method to solve for the distance r from the Earth to the $L_1$ point. Compute a solution accurate to at least four significant figures."
   ]
  },
  {
   "cell_type": "code",
   "execution_count": 14,
   "metadata": {},
   "outputs": [
    {
     "name": "stdout",
     "output_type": "stream",
     "text": [
      "The estimate for the Lagrange Point (L1) is 325991943.98570794 with an percentage error of 0.12502%\n"
     ]
    }
   ],
   "source": [
    "from math import pi\n",
    "from numpy import linspace\n",
    "\n",
    "#Defining the variables\n",
    "R = 384400000                 #distance of the earth to the moon\n",
    "M = 5.97219*(10**24)       #Mass of the Earth\n",
    "m = 7.34767309*(10**22)    #Mass of teh Moon\n",
    "w = 2*pi/(27.3*24*60*60)   #Angular velocity of the Moon with respect to the Earth\n",
    "G = 6.674*(10**(-11))      # Gravitational Costant\n",
    "\n",
    "#Defining the funtion f(x)\n",
    "def f(x):\n",
    "  return (G*M/(x**2))-(G*m/(R-x)**2)-(x*w**2)\n",
    "\n",
    "#Defining the Derivative of f(x)\n",
    "def df(x):\n",
    "  return (-2*G*M/x**3)-(2*G*m/(R-x)**3)-(w**2)\n",
    "\n",
    "#Defining the function that will execute the Newton's Method with parameters:\n",
    "# fn = the function whose root will be estimated\n",
    "# dfn = the derivative of the function\n",
    "# r = the initial guess\n",
    "# tol = degree of accuracy\n",
    "# maxiter = the maximum number of times the loop will run (*to avoid long runtime)\n",
    "def nm(fn, dfn, r, tol, maxinter):\n",
    "  for i in range (maxinter): # the loop will run until the set maximum iteration\n",
    "    rnew = r - f(r)/df(r)    # the formula for the estimate of the root\n",
    "    if abs(rnew - r) < tol:  # stops the loop when the difference of the 2nd and 1st estimate is less than the set tolerance \n",
    "      break\n",
    "    if rnew > R:             # stops when the new guess is greater than R since the problem implied that L1 less than R\n",
    "      break\n",
    "    r = rnew                 # sets up the next guess for the next loop if either of the break conditions was not met\n",
    "  return rnew, i             # returns the final guess and the number of iteration it took\n",
    "    \n",
    "#Setting up the initial Guess\n",
    "# Since it is implied that L1 < R, the initial guess must be < R\n",
    "N = 10 \n",
    "rguess = linspace (R/N,R-1,N) # Gives a list of Points < R where R-1 is the upperbound to avoid dividing by zero\n",
    "\n",
    "#Calculating the error\n",
    "rans = 326400000 #Theoretical Answer\n",
    "#setting up an empty list of the estimates for L1 and their respective error\n",
    "r_est = []\n",
    "errors = []\n",
    "\n",
    "#Executing Newwton's Method for different guesses\n",
    "for k in range (N): \n",
    "  x, n = nm(f(x),df(x),rguess[k], 0.00001, 100)\n",
    "  e = abs((rans-x)/rans) # calculates the relative error of the estimate\n",
    "  r_est.append(x)        #adds the estimate to the r_est list\n",
    "  errors.append (e)      #adds the estimate to the errors list\n",
    "\n",
    "\n",
    "#prints out the best estimate by finding the minimum error from the errors list, getting its index, and then finding its coressponding estimate in the r_est list \n",
    "print (\"The estimate for the Lagrange Point (L1) is \" + str(r_est[errors.index(min(errors))]) + \" with an percentage error of \" + str(round(min(errors)*100,5)) + \"%\") "
   ]
  },
  {
   "cell_type": "markdown",
   "metadata": {},
   "source": [
    "<font color=red>-3 pts</font> \\\n",
    "<font color=red>The reported answer lacks physical unit.</font> \n",
    "\n"
   ]
  },
  {
   "cell_type": "markdown",
   "metadata": {},
   "source": [
    "<font color=red>Correctness of Code: 20/20</font> \\\n",
    "<font color=red>Discussion of Code and Results: 16/20 </font>"
   ]
  }
 ],
 "metadata": {
  "colab": {
   "provenance": []
  },
  "kernelspec": {
   "display_name": "base",
   "language": "python",
   "name": "python3"
  },
  "language_info": {
   "codemirror_mode": {
    "name": "ipython",
    "version": 3
   },
   "file_extension": ".py",
   "mimetype": "text/x-python",
   "name": "python",
   "nbconvert_exporter": "python",
   "pygments_lexer": "ipython3",
   "version": "3.12.2"
  }
 },
 "nbformat": 4,
 "nbformat_minor": 4
}
